NA - Person who should have greater say: visits to family or relatives
Antenatal check-ups for the mother of most recent child
Drinks rum
Beating justified: wife argues with husband
Religion
Sex of household head
Ever been married or in union
Employment all year/seasonal
NA - Smokes cigarettes
Number of living children
Drinks beer
Beating justified: wife neglects the children
Frequency of watching television
Cohabitation duration (grouped)
Total children ever born
NA - Alcohol consumption at last sex with 2nd to most recent partner
Age of most recent child
NA - Alcohol consumption at last sex with most recent partner
NA - Smokes other
On average respondent smokes daily: water pipe sessions
Country code and phase
Have a job, but currently absent
Has an account in a bank or other financial institution
Frequency in the past smoked tobacco
On average respondent uses daily: snuff by nose
Highest year of education (at level in MV106)
Cluster number
Sons who have died
On average respondent uses daily: any others
Occupation
Type of contraceptive method
Respondent present during check-ups for most recent child
NA - Uses snuff
Drinks alcohol
Drinks Tafia/Clairin
Daughters at home
Place of birth of most recent child
Age of household head
Frequency currently smokes tobacco
Daughters who have died
NA - Person who should have greater say: deciding how many children to have
NA - Alcohol consumption at last sex with 3rd to most recent partner
NA - Married to mother when first child was born
NA - Smokes pipe
Worked in last 12 months
Amount a child should drink, when that child has diarrhea
Current age
Beating justified: wife burns food
Knowledge of any contraceptive method
Year of first cohabitation
Years lived in place of residence
Occupation (grouped)
NA - Person who should have greater say: daily household purchases
Age of wife/partner
Educational level
NA - Wife refuses to have sex, husband has right to: use force for sex
Since how many years smokes respondent
On average respondent uses daily: chewing tobacco
Men's sample weight (6 decimals)
Sons elsewhere
On average respondent smokes daily: others
On average respondent smokes daily: cigars, cheroots, cigarrillos
Number of women fathered children with
On average respondent smokes daily: manufactured cigarettes
NA - Wife justified refusing sex: recent birth
Drinks wine
NA - Number of cigarettes in last 24 hours
Age in 5-year groups
Currently residing with wife/partner
Case Identification
Drinks other alcohol
NA - Ever use of any contraceptive method
Frequency currently uses smokeless tobacco
Region
Person who usually decides how to spend respondent's earnings
Beating justified: wife goes out without telling husband
NA - Reason for not delivering most recent child in health facility
Currently working
NA - Wife or partner
NA - Wife refuses to have sex, husband has right to: have sex with another women
Sons at home
On average respondent uses daily: snuff by mouth
NA - Uses chewing tobacco
Daughters elsewhere
Wife justified refusing sex: husband has other women
On average respondent smokes daily: hand roll cigarettes
Beating justified: wife refuses to have sex with husband
On average respondent smokes daily: pipes full of tobacco
Beating
